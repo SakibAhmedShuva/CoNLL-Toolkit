{
 "cells": [
  {
   "cell_type": "code",
   "execution_count": 48,
   "metadata": {},
   "outputs": [],
   "source": [
    "import re\n",
    "from collections import defaultdict, Counter"
   ]
  },
  {
   "cell_type": "code",
   "execution_count": 49,
   "metadata": {},
   "outputs": [],
   "source": [
    "class ConllEditor:\n",
    "    def __init__(self, file_path):\n",
    "        self.file_path = file_path\n",
    "        self.data = self._load_data()\n",
    "\n",
    "    def _load_data(self):\n",
    "        with open(self.file_path, 'r') as f:\n",
    "            lines = f.readlines()\n",
    "        return [line.strip() for line in lines]\n",
    "\n",
    "    def view_annotations(self):\n",
    "        annotations = [line for line in self.data if line and not line.startswith(\"-DOCSTART-\")]\n",
    "        for annotation in annotations:\n",
    "            print(annotation)\n",
    "    \n",
    "    def label_stats(self):\n",
    "        label_counter = Counter()\n",
    "        for line in self.data:\n",
    "            if line and not line.startswith(\"-DOCSTART-\"):\n",
    "                label = line.split()[-1]\n",
    "                label_counter[label] += 1\n",
    "        for label, count in label_counter.items():\n",
    "            print(f\"Label: {label}, Count: {count}\")\n",
    "    \n",
    "    def search_by_label(self, label):\n",
    "        matches = [line for line in self.data if line.endswith(label)]\n",
    "        for match in matches:\n",
    "            print(match)\n",
    "    \n",
    "    def remove_label(self, label_to_remove):\n",
    "        new_data = []\n",
    "        for line in self.data:\n",
    "            if line.endswith(label_to_remove):\n",
    "                new_data.append(re.sub(rf\"\\s{label_to_remove}$\", \" O\", line))\n",
    "            else:\n",
    "                new_data.append(line)\n",
    "        self.data = new_data\n",
    "        print(f\"Label '{label_to_remove}' removed.\")\n",
    "    \n",
    "    def merge_labels(self, labels_to_merge, new_label):\n",
    "        new_data = []\n",
    "        for line in self.data:\n",
    "            if any(line.endswith(label) for label in labels_to_merge):\n",
    "                new_data.append(re.sub(rf\"\\s({'|'.join(labels_to_merge)})$\", f\" {new_label}\", line))\n",
    "            else:\n",
    "                new_data.append(line)\n",
    "        self.data = new_data\n",
    "        print(f\"Labels {labels_to_merge} merged into '{new_label}'.\")\n",
    "    \n",
    "    def rename_labels(self, label_mapping):\n",
    "        new_data = []\n",
    "        for line in self.data:\n",
    "            if line and not line.startswith(\"-DOCSTART-\"):\n",
    "                parts = line.split()\n",
    "                if parts:\n",
    "                    label = parts[-1]\n",
    "                    if label in label_mapping:\n",
    "                        parts[-1] = label_mapping[label]\n",
    "                    new_data.append(\" \".join(parts))\n",
    "            else:\n",
    "                new_data.append(line)\n",
    "        self.data = new_data\n",
    "        print(f\"Labels renamed according to {label_mapping}.\")\n",
    "\n",
    "    def save(self, output_path):\n",
    "        with open(output_path, 'w') as f:\n",
    "            f.write(\"\\n\".join(self.data) + \"\\n\")\n",
    "        print(f\"Updated file saved to {output_path}\")"
   ]
  },
  {
   "cell_type": "code",
   "execution_count": 50,
   "metadata": {},
   "outputs": [],
   "source": [
    "# Initialize the editor with the CoNLL file path\n",
    "editor = ConllEditor(r'c:\\Users\\Sakib Ahmed\\Desktop\\yours.conll')"
   ]
  },
  {
   "cell_type": "code",
   "execution_count": 51,
   "metadata": {},
   "outputs": [
    {
     "name": "stdout",
     "output_type": "stream",
     "text": [
      "IntentÃ³ -X- _ O\n",
      "un -X- _ O\n",
      "sistema -X- _ O\n",
      "de -X- _ O\n",
      "centro -X- _ O\n",
      "que -X- _ O\n",
      "naturalmente -X- _ O\n",
      "no -X- _ O\n",
      "era -X- _ O\n",
      "el -X- _ O\n",
      "mismo -X- _ O\n",
      "que -X- _ O\n",
      "ahora -X- _ O\n",
      ", -X- _ O\n",
      "puntualizÃ³ -X- _ O\n",
      ", -X- _ O\n",
      "pero -X- _ O\n",
      "que -X- _ O\n",
      "logrÃ³ -X- _ O\n",
      "una -X- _ O\n",
      "sÃ­ntesis -X- _ O\n",
      "entre -X- _ O\n",
      "dos -X- _ O\n",
      "posiciones -X- _ O\n",
      "dialÃ©cticas -X- _ O\n",
      "e -X- _ O\n",
      "intentÃ³ -X- _ O\n",
      "evitar -X- _ O\n",
      "choques -X- _ O\n",
      "entre -X- _ O\n",
      "posiciones -X- _ O\n",
      "contrarias -X- _ O\n",
      ". -X- _ O\n",
      "Por -X- _ O\n",
      "otra -X- _ O\n",
      "parte -X- _ O\n",
      "Narbona -X- _ B-PER\n",
      "criticÃ³ -X- _ O\n",
      "\" -X- _ O\n",
      "el -X- _ O\n",
      "retraso -X- _ O\n",
      "de -X- _ O\n",
      "las -X- _ O\n",
      "obras -X- _ O\n",
      "para -X- _ O\n",
      "la -X- _ O\n",
      "construcciÃ³n -X- _ O\n",
      "de -X- _ O\n",
      "la -X- _ O\n",
      "planta -X- _ O\n",
      "de -X- _ O\n",
      "secado -X- _ O\n",
      "tÃ©rmico -X- _ O\n",
      "de -X- _ O\n",
      "lodos -X- _ O\n",
      "de -X- _ O\n",
      "la -X- _ O\n",
      "Depuradora -X- _ B-MISC\n",
      "Sur -X- _ I-MISC\n",
      "\" -X- _ O\n",
      ". -X- _ O\n",
      "- -X- _ O\n",
      "- -X- _ O\n",
      "Ara -X- _ B-PER\n",
      ", -X- _ O\n",
      "que -X- _ O\n",
      "calificÃ³ -X- _ O\n",
      "de -X- _ O\n",
      "\" -X- _ O\n",
      "crÃ­tico -X- _ O\n",
      "\" -X- _ O\n",
      "el -X- _ O\n",
      "momento -X- _ O\n",
      "por -X- _ O\n",
      "el -X- _ O\n",
      "que -X- _ O\n",
      "atraviesa -X- _ O\n",
      "el -X- _ O\n",
      "sector -X- _ O\n",
      ", -X- _ O\n",
      "indicÃ³ -X- _ O\n",
      "que -X- _ O\n",
      "el -X- _ O\n",
      "Inlac -X- _ B-ORG\n",
      "debe -X- _ O\n",
      "convertirse -X- _ O\n",
      "en -X- _ O\n",
      "un -X- _ O\n",
      "\" -X- _ O\n",
      "buen -X- _ O\n",
      "interlocutor -X- _ O\n",
      "\" -X- _ O\n",
      "con -X- _ O\n",
      "las -X- _ O\n",
      "distintas -X- _ O\n",
      "administraciones -X- _ O\n",
      "y -X- _ O\n",
      "servir -X- _ O\n",
      "tambiÃ©n -X- _ O\n",
      "para -X- _ O\n",
      "propiciar -X- _ O\n",
      "el -X- _ O\n",
      "\" -X- _ O\n",
      "acercamiento -X- _ O\n",
      "\" -X- _ O\n",
      "entre -X- _ O\n",
      "las -X- _ O\n",
      "organizaciones -X- _ O\n",
      "agrarias -X- _ O\n",
      "y -X- _ O\n",
      "la -X- _ O\n",
      "patronal -X- _ O\n",
      "lÃ¡ctea -X- _ O\n",
      ". -X- _ O\n",
      "- -X- _ O\n",
      "La -X- _ O\n",
      "final -X- _ O\n",
      "de -X- _ O\n",
      "Copa -X- _ B-MISC\n",
      "del -X- _ I-MISC\n",
      "Rey -X- _ I-MISC\n",
      "que -X- _ O\n",
      "disputan -X- _ O\n",
      "Espanyol -X- _ B-ORG\n",
      "y -X- _ O\n",
      "AtlÃ©tico -X- _ B-ORG\n",
      "de -X- _ I-ORG\n",
      "Madrid -X- _ I-ORG\n",
      "y -X- _ O\n",
      "la -X- _ O\n",
      "duda -X- _ O\n",
      "de -X- _ O\n",
      "si -X- _ O\n",
      "el -X- _ O\n",
      "nuevo -X- _ O\n",
      "entrenador -X- _ O\n",
      "del -X- _ O\n",
      "AtlÃ©tico -X- _ B-ORG\n",
      "de -X- _ I-ORG\n",
      "Madrid -X- _ I-ORG\n",
      ", -X- _ O\n",
      "Fernando -X- _ B-PER\n",
      "Zambrano -X- _ I-PER\n",
      ", -X- _ O\n",
      "podrÃ¡ -X- _ O\n",
      "contar -X- _ O\n",
      "con -X- _ O\n",
      "la -X- _ O\n",
      "presencia -X- _ O\n",
      "de -X- _ O\n",
      "Solari -X- _ B-PER\n",
      "o -X- _ O\n",
      "Kiko -X- _ B-PER\n",
      ", -X- _ O\n",
      "y -X- _ O\n",
      "la -X- _ O\n",
      "tenista -X- _ O\n",
      "rusa -X- _ O\n",
      "Anna -X- _ B-PER\n",
      "Kournikova -X- _ I-PER\n",
      "que -X- _ O\n",
      "se -X- _ O\n",
      "prepara -X- _ O\n",
      "para -X- _ O\n",
      "el -X- _ O\n",
      "torneo -X- _ O\n",
      "de -X- _ O\n",
      "Roland -X- _ B-MISC\n",
      "Garros -X- _ I-MISC\n",
      "en -X- _ O\n",
      "Mallorca -X- _ B-LOC\n",
      ", -X- _ O\n",
      "configuran -X- _ O\n",
      "el -X- _ O\n",
      "grueso -X- _ O\n",
      "informativo -X- _ O\n",
      "del -X- _ O\n",
      "rotativo -X- _ O\n",
      ". -X- _ O\n",
      "- -X- _ O\n",
      "AdemÃ¡s -X- _ O\n",
      ", -X- _ O\n",
      "otros -X- _ O\n",
      "cinco -X- _ O\n",
      "escenarios -X- _ O\n",
      "deportivos -X- _ O\n",
      "estÃ¡n -X- _ O\n",
      "en -X- _ O\n",
      "el -X- _ O\n",
      "Ã¡rea -X- _ O\n",
      "metropolitana -X- _ O\n",
      "de -X- _ O\n",
      "Sevilla -X- _ B-LOC\n",
      "y -X- _ O\n",
      "a -X- _ O\n",
      "menos -X- _ O\n",
      "de -X- _ O\n",
      "doce -X- _ O\n",
      "kilÃ³metros -X- _ O\n",
      "de -X- _ O\n",
      "la -X- _ O\n",
      "ciudad -X- _ O\n",
      ", -X- _ O\n",
      "como -X- _ O\n",
      "Dos -X- _ B-LOC\n",
      "Hermanas -X- _ I-LOC\n",
      "o -X- _ O\n",
      "la -X- _ O\n",
      "Universidad -X- _ B-LOC\n",
      "Pablo -X- _ I-LOC\n",
      "de -X- _ I-LOC\n",
      "Olavide -X- _ I-LOC\n",
      ". -X- _ O\n"
     ]
    }
   ],
   "source": [
    "# 1. View Annotations\n",
    "editor.view_annotations()"
   ]
  },
  {
   "cell_type": "code",
   "execution_count": 52,
   "metadata": {},
   "outputs": [
    {
     "name": "stdout",
     "output_type": "stream",
     "text": [
      "Label: O, Count: 182\n",
      "Label: B-PER, Count: 6\n",
      "Label: B-MISC, Count: 3\n",
      "Label: I-MISC, Count: 4\n",
      "Label: B-ORG, Count: 4\n",
      "Label: I-ORG, Count: 4\n",
      "Label: I-PER, Count: 2\n",
      "Label: B-LOC, Count: 4\n",
      "Label: I-LOC, Count: 4\n"
     ]
    }
   ],
   "source": [
    "# 2. Label Statistics\n",
    "editor.label_stats()"
   ]
  },
  {
   "cell_type": "code",
   "execution_count": 53,
   "metadata": {},
   "outputs": [
    {
     "name": "stdout",
     "output_type": "stream",
     "text": [
      "Narbona -X- _ B-PER\n",
      "Ara -X- _ B-PER\n",
      "Fernando -X- _ B-PER\n",
      "Solari -X- _ B-PER\n",
      "Kiko -X- _ B-PER\n",
      "Anna -X- _ B-PER\n"
     ]
    }
   ],
   "source": [
    "# 3. Search Annotations with a specific label\n",
    "editor.search_by_label('B-PER')"
   ]
  },
  {
   "cell_type": "code",
   "execution_count": 54,
   "metadata": {},
   "outputs": [
    {
     "name": "stdout",
     "output_type": "stream",
     "text": [
      "Label 'B-PER' removed.\n"
     ]
    }
   ],
   "source": [
    "# 4. Remove specific label\n",
    "editor.remove_label('B-PER')"
   ]
  },
  {
   "cell_type": "code",
   "execution_count": 55,
   "metadata": {},
   "outputs": [
    {
     "name": "stdout",
     "output_type": "stream",
     "text": [
      "Label: O, Count: 188\n",
      "Label: B-MISC, Count: 3\n",
      "Label: I-MISC, Count: 4\n",
      "Label: B-ORG, Count: 4\n",
      "Label: I-ORG, Count: 4\n",
      "Label: I-PER, Count: 2\n",
      "Label: B-LOC, Count: 4\n",
      "Label: I-LOC, Count: 4\n"
     ]
    }
   ],
   "source": [
    "# Rechecking Label Statistics\n",
    "editor.label_stats()"
   ]
  },
  {
   "cell_type": "code",
   "execution_count": 56,
   "metadata": {},
   "outputs": [
    {
     "name": "stdout",
     "output_type": "stream",
     "text": [
      "Labels ['B-MISC', 'I-MISC', 'B-ORG'] merged into 'C-MISC'.\n"
     ]
    }
   ],
   "source": [
    "# 5. Merge multiple labels into one\n",
    "editor.merge_labels(['B-MISC', 'I-MISC', 'B-ORG'], 'C-MISC')"
   ]
  },
  {
   "cell_type": "code",
   "execution_count": 57,
   "metadata": {},
   "outputs": [
    {
     "name": "stdout",
     "output_type": "stream",
     "text": [
      "Label: O, Count: 188\n",
      "Label: C-MISC, Count: 11\n",
      "Label: I-ORG, Count: 4\n",
      "Label: I-PER, Count: 2\n",
      "Label: B-LOC, Count: 4\n",
      "Label: I-LOC, Count: 4\n"
     ]
    }
   ],
   "source": [
    "# Rechecking Label Statistics\n",
    "editor.label_stats()"
   ]
  },
  {
   "cell_type": "code",
   "execution_count": 60,
   "metadata": {},
   "outputs": [
    {
     "name": "stdout",
     "output_type": "stream",
     "text": [
      "Labels renamed according to {'I-PER': 'A-MISC', 'B-LOC': 'A-LOC'}.\n"
     ]
    }
   ],
   "source": [
    "# 6. Rename labels based on JSON mapping\n",
    "editor.rename_labels({\n",
    "    'I-PER':'A-MISC',\n",
    "    'B-LOC':'A-LOC'\n",
    "})"
   ]
  },
  {
   "cell_type": "code",
   "execution_count": 61,
   "metadata": {},
   "outputs": [
    {
     "name": "stdout",
     "output_type": "stream",
     "text": [
      "Label: O, Count: 188\n",
      "Label: C-MISC, Count: 11\n",
      "Label: I-ORG, Count: 4\n",
      "Label: A-MISC, Count: 2\n",
      "Label: A-LOC, Count: 4\n",
      "Label: I-LOC, Count: 4\n"
     ]
    }
   ],
   "source": [
    "# Rechecking Label Statistics\n",
    "editor.label_stats()"
   ]
  },
  {
   "cell_type": "code",
   "execution_count": 62,
   "metadata": {},
   "outputs": [
    {
     "name": "stdout",
     "output_type": "stream",
     "text": [
      "Updated file saved to updated_conll_file.conll\n"
     ]
    }
   ],
   "source": [
    "# Save the updated CoNLL file\n",
    "editor.save('updated_conll_file.conll')"
   ]
  }
 ],
 "metadata": {
  "kernelspec": {
   "display_name": "Python 3",
   "language": "python",
   "name": "python3"
  },
  "language_info": {
   "codemirror_mode": {
    "name": "ipython",
    "version": 3
   },
   "file_extension": ".py",
   "mimetype": "text/x-python",
   "name": "python",
   "nbconvert_exporter": "python",
   "pygments_lexer": "ipython3",
   "version": "3.12.7"
  }
 },
 "nbformat": 4,
 "nbformat_minor": 2
}
